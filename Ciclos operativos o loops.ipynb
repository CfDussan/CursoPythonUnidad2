{
 "cells": [
  {
   "cell_type": "code",
   "execution_count": 3,
   "metadata": {},
   "outputs": [
    {
     "name": "stdout",
     "output_type": "stream",
     "text": [
      "2\n",
      "3\n",
      "4\n",
      "5\n",
      "6\n"
     ]
    }
   ],
   "source": [
    "numeros=[1,2,3,4,5]\n",
    "for num in numeros:\n",
    "    suma=num+1\n",
    "    print(suma)"
   ]
  },
  {
   "cell_type": "code",
   "execution_count": 4,
   "metadata": {},
   "outputs": [
    {
     "name": "stdout",
     "output_type": "stream",
     "text": [
      "2\n",
      "3\n",
      "4\n",
      "5\n",
      "6\n"
     ]
    }
   ],
   "source": [
    "for i in range(1,6):\n",
    "    suma=i+1\n",
    "    print(suma)"
   ]
  },
  {
   "cell_type": "code",
   "execution_count": 6,
   "metadata": {},
   "outputs": [
    {
     "name": "stdout",
     "output_type": "stream",
     "text": [
      "Variable  1 Resultado  2\n",
      "Variable  2 Resultado  3\n",
      "Variable  3 Resultado  4\n",
      "Variable  4 Resultado  5\n",
      "Variable  5 Resultado  6\n"
     ]
    }
   ],
   "source": [
    "for i in range(1,6):\n",
    "    suma=i+1\n",
    "    print('Variable ', i,'Resultado ', suma)"
   ]
  },
  {
   "cell_type": "code",
   "execution_count": 9,
   "metadata": {},
   "outputs": [
    {
     "name": "stdout",
     "output_type": "stream",
     "text": [
      "num  1\n",
      "num  2\n",
      "num  3\n",
      "num  4\n",
      "num  5\n"
     ]
    }
   ],
   "source": [
    "num=1\n",
    "while num < 6:\n",
    "    print(\"num \", num)\n",
    "    num =num +1"
   ]
  },
  {
   "cell_type": "code",
   "execution_count": 10,
   "metadata": {},
   "outputs": [
    {
     "name": "stdout",
     "output_type": "stream",
     "text": [
      "Juan\n",
      "María\n",
      "Carlos\n",
      "Laura\n"
     ]
    }
   ],
   "source": [
    "nombres = [\"Juan\", \"María\", \"Carlos\", \"Laura\"]\n",
    "for nombre in nombres:\n",
    "    print(nombre)"
   ]
  },
  {
   "cell_type": "code",
   "execution_count": 11,
   "metadata": {},
   "outputs": [
    {
     "name": "stdout",
     "output_type": "stream",
     "text": [
      "2\n",
      "4\n",
      "6\n",
      "8\n",
      "10\n"
     ]
    }
   ],
   "source": [
    "for num in range(1, 11):\n",
    "    if num % 2 == 0:\n",
    "        print(num)"
   ]
  },
  {
   "cell_type": "code",
   "execution_count": 12,
   "metadata": {},
   "outputs": [
    {
     "name": "stdout",
     "output_type": "stream",
     "text": [
      "0\n",
      "1\n",
      "1\n",
      "2\n",
      "3\n",
      "5\n",
      "8\n",
      "13\n",
      "21\n",
      "34\n"
     ]
    }
   ],
   "source": [
    "limite = 50\n",
    "a, b = 0, 1\n",
    "while a < limite:\n",
    "    print(a)\n",
    "    a, b = b, a + b"
   ]
  },
  {
   "cell_type": "code",
   "execution_count": 1,
   "metadata": {},
   "outputs": [
    {
     "name": "stdout",
     "output_type": "stream",
     "text": [
      "0\n"
     ]
    }
   ],
   "source": [
    "for i in range(5):\n",
    "    print(i)\n",
    "    break"
   ]
  },
  {
   "cell_type": "code",
   "execution_count": 2,
   "metadata": {},
   "outputs": [
    {
     "name": "stdout",
     "output_type": "stream",
     "text": [
      "P\n",
      "y\n",
      "t\n",
      "Se encontró la h\n"
     ]
    }
   ],
   "source": [
    "cadena = 'Python'\n",
    "for letra in cadena:\n",
    "    if letra == 'h':\n",
    "        print(\"Se encontró la h\")\n",
    "        break\n",
    "    print(letra)"
   ]
  },
  {
   "cell_type": "code",
   "execution_count": 6,
   "metadata": {},
   "outputs": [
    {
     "name": "stdout",
     "output_type": "stream",
     "text": [
      "4\n",
      "3\n",
      "2\n",
      "1\n",
      "0\n",
      "Fin del bucle\n"
     ]
    }
   ],
   "source": [
    "x = 5\n",
    "while True:\n",
    "    x -= 1\n",
    "    print(x)\n",
    "    if x == 0:\n",
    "        break\n",
    "print(\"Fin del bucle\")"
   ]
  },
  {
   "cell_type": "code",
   "execution_count": 34,
   "metadata": {},
   "outputs": [
    {
     "name": "stdout",
     "output_type": "stream",
     "text": [
      "¡Encontré la manzana!\n"
     ]
    }
   ],
   "source": [
    "elemento_buscado = \"manzana\"\n",
    "frutas = [\"manzana\", \"banana\", \"uva\", \"pera\"]\n",
    "for fruta in frutas:\n",
    "    if fruta == elemento_buscado:\n",
    "        print(\"¡Encontré la\", fruta + \"!\")\n",
    "        break\n",
    "# ¡Encontré la manzana!\n"
   ]
  },
  {
   "cell_type": "code",
   "execution_count": 33,
   "metadata": {},
   "outputs": [
    {
     "name": "stdout",
     "output_type": "stream",
     "text": [
      "¡Encontré la uva!\n"
     ]
    }
   ],
   "source": [
    "elemento_buscado = \"uva\"\n",
    "frutas = [\"manzana\", \"banana\", \"uva\", \"pera\"]\n",
    "for fruta in frutas:\n",
    "    if fruta == elemento_buscado:\n",
    "        print(\"¡Encontré la\", fruta + \"!\")\n",
    "        break\n",
    "if fruta != elemento_buscado: print('No la encontre')\n",
    "# ¡Encontré la manzana!\n"
   ]
  },
  {
   "cell_type": "code",
   "execution_count": 37,
   "metadata": {},
   "outputs": [
    {
     "name": "stdout",
     "output_type": "stream",
     "text": [
      "¡Número divisible por 7 encontrado: 7 !\n"
     ]
    }
   ],
   "source": [
    "for numero in range(1, 101):\n",
    "    if numero % 7 == 0:\n",
    "        print(\"¡Número divisible por 7 encontrado:\", numero, \"!\")\n",
    "        break\n",
    "# ¡Número divisible por 7 encontrado: 7!\n"
   ]
  },
  {
   "cell_type": "code",
   "execution_count": 51,
   "metadata": {},
   "outputs": [
    {
     "name": "stdout",
     "output_type": "stream",
     "text": [
      "¡Número divisible por 7 encontrado: 14 !\n"
     ]
    }
   ],
   "source": [
    "for numero in range(1, 101):\n",
    "    if numero % 7 == 0:\n",
    "        if numero==7:\n",
    "            continue        \n",
    "        print(\"¡Número divisible por 7 encontrado:\", numero, \"!\")          \n",
    "        break\n",
    "# ¡Número divisible por 7 encontrado: 7!\n"
   ]
  },
  {
   "cell_type": "code",
   "execution_count": 52,
   "metadata": {},
   "outputs": [
    {
     "name": "stdout",
     "output_type": "stream",
     "text": [
      "1\n",
      "3\n",
      "5\n",
      "7\n",
      "9\n"
     ]
    }
   ],
   "source": [
    "for i in range(1, 11):\n",
    "    if i % 2 == 0:\n",
    "        continue\n",
    "    print(i)\n",
    "# 1\n",
    "# 3\n",
    "# 5\n",
    "# 7\n",
    "# 9\n"
   ]
  },
  {
   "cell_type": "code",
   "execution_count": 53,
   "metadata": {},
   "outputs": [
    {
     "name": "stdout",
     "output_type": "stream",
     "text": [
      "5\n",
      "8\n",
      "0\n",
      "2\n"
     ]
    }
   ],
   "source": [
    "numeros = [5, -3, 8, -1, 0, -7, 2]\n",
    "for num in numeros:\n",
    "    if num < 0:\n",
    "        continue\n",
    "    print(num)\n",
    "# 5\n",
    "# 8\n",
    "# 0\n",
    "# 2\n"
   ]
  },
  {
   "cell_type": "markdown",
   "metadata": {},
   "source": [
    "# INSUPPER \n",
    "insupper() funcion para letras en mayuscula (ver el ejercicio siguiente)"
   ]
  },
  {
   "cell_type": "code",
   "execution_count": 1,
   "metadata": {},
   "outputs": [
    {
     "name": "stdout",
     "output_type": "stream",
     "text": [
      "H\n",
      "M\n"
     ]
    }
   ],
   "source": [
    "texto = \"Hola Mundo 123\"\n",
    "for caracter in texto:\n",
    "    if not caracter.isupper():\n",
    "        continue\n",
    "    print(caracter)\n",
    "# H\n",
    "# M\n"
   ]
  },
  {
   "cell_type": "code",
   "execution_count": 56,
   "metadata": {},
   "outputs": [
    {
     "name": "stdout",
     "output_type": "stream",
     "text": [
      "H\n",
      "M\n"
     ]
    }
   ],
   "source": [
    "texto = \"Hola Mundo 123\"\n",
    "for caracter in texto:\n",
    "    if caracter.isupper():\n",
    "        print(caracter)            \n",
    "    "
   ]
  },
  {
   "cell_type": "code",
   "execution_count": null,
   "metadata": {},
   "outputs": [],
   "source": [
    "#ITENERABLES E ITENERADORES"
   ]
  },
  {
   "cell_type": "code",
   "execution_count": 1,
   "metadata": {},
   "outputs": [
    {
     "name": "stdout",
     "output_type": "stream",
     "text": [
      "(0, 'H')\n",
      "(1, 'e')\n",
      "(2, 'n')\n",
      "(3, 'r')\n",
      "(4, 'y')\n"
     ]
    }
   ],
   "source": [
    "# ENUMERATE Para enumerar el inice enumerate\n",
    "cadena = \"Henry\"\n",
    "for c in enumerate(cadena):\n",
    "    print(c)"
   ]
  },
  {
   "cell_type": "code",
   "execution_count": null,
   "metadata": {},
   "outputs": [],
   "source": []
  }
 ],
 "metadata": {
  "kernelspec": {
   "display_name": "Python 3",
   "language": "python",
   "name": "python3"
  },
  "language_info": {
   "codemirror_mode": {
    "name": "ipython",
    "version": 3
   },
   "file_extension": ".py",
   "mimetype": "text/x-python",
   "name": "python",
   "nbconvert_exporter": "python",
   "pygments_lexer": "ipython3",
   "version": "3.12.4"
  }
 },
 "nbformat": 4,
 "nbformat_minor": 2
}
